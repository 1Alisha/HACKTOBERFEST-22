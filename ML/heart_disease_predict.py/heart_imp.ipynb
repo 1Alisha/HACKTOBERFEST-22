{
  "cells": [
    {
      "cell_type": "markdown",
      "metadata": {
        "id": "7-Rw0E3yEfe9"
      },
      "source": [
        "Import libraries"
      ]
    },
    {
      "cell_type": "code",
      "execution_count": 1,
      "metadata": {
        "id": "rj5TFrOoETc-"
      },
      "outputs": [],
      "source": [
        "\n",
        "import numpy as np\n",
        "import matplotlib.pyplot as plt\n",
        "import pandas as pd\n",
        "\n",
        "from sklearn.model_selection import train_test_split\n",
        "from sklearn.ensemble import RandomForestClassifier\n",
        "from sklearn.metrics import accuracy_score, confusion_matrix, classification_report\n"
      ]
    },
    {
      "cell_type": "markdown",
      "metadata": {
        "id": "FfWr5MsZEqyS"
      },
      "source": [
        "Import datasets"
      ]
    },
    {
      "cell_type": "code",
      "execution_count": 2,
      "metadata": {
        "id": "clsZbaiUEuIc"
      },
      "outputs": [],
      "source": [
        "dataset = pd.read_csv('heart_new.csv') \n",
        "X = dataset.iloc[:, :-1].values\n",
        "y = dataset.iloc[:, -1].values"
      ]
    },
    {
      "cell_type": "markdown",
      "metadata": {
        "id": "uPNn_91-EyNr"
      },
      "source": [
        "Splitting into training and test sets"
      ]
    },
    {
      "cell_type": "code",
      "execution_count": 3,
      "metadata": {
        "id": "EwL9g2xwE28w"
      },
      "outputs": [],
      "source": [
        "X_train, X_test, y_train, y_test = train_test_split(X, y, random_state=0, stratify=y)"
      ]
    },
    {
      "cell_type": "markdown",
      "metadata": {
        "id": "bCm2OifUE5id"
      },
      "source": [
        "Training the model"
      ]
    },
    {
      "cell_type": "code",
      "execution_count": 4,
      "metadata": {
        "colab": {
          "base_uri": "https://localhost:8080/"
        },
        "id": "vWRCP5J_FAAe",
        "outputId": "03629479-d337-4168-ebae-e3457b954741"
      },
      "outputs": [
        {
          "name": "stdout",
          "output_type": "stream",
          "text": [
            "Fitting 5 folds for each of 30 candidates, totalling 150 fits\n"
          ]
        },
        {
          "data": {
            "text/plain": [
              "GridSearchCV(cv=5, estimator=RandomForestClassifier(n_jobs=-1),\n",
              "             param_grid={'max_depth': [4, 5, 6], 'min_samples_split': [2, 3],\n",
              "                         'n_estimators': [50, 60, 70, 80, 90]},\n",
              "             verbose=1)"
            ]
          },
          "execution_count": 4,
          "metadata": {},
          "output_type": "execute_result"
        }
      ],
      "source": [
        "from sklearn.model_selection import GridSearchCV\n",
        "n_trees = list(range(50,100,10))\n",
        "depth = list(range(4,7))\n",
        "split = list(range(2,4))\n",
        "\n",
        "param_grid = {'max_depth':depth,'min_samples_split':split,'n_estimators':n_trees}\n",
        "rf_grid = RandomForestClassifier(n_jobs=-1)\n",
        "gird_search_rf = GridSearchCV(rf_grid,param_grid,cv=5,verbose=1)\n",
        "gird_search_rf.fit(X_train,y_train)"
      ]
    },
    {
      "cell_type": "markdown",
      "metadata": {
        "id": "rW-1FMD-FB0D"
      },
      "source": [
        "Make predictions"
      ]
    },
    {
      "cell_type": "code",
      "execution_count": null,
      "metadata": {
        "colab": {
          "base_uri": "https://localhost:8080/"
        },
        "id": "hvaFNtOvFHy_",
        "outputId": "62755985-135b-45eb-fb7f-e8d08eedd07e"
      },
      "outputs": [
        {
          "name": "stdout",
          "output_type": "stream",
          "text": [
            "Best score:  0.8750026446630699\n",
            "Best parameters:  {'max_depth': 5, 'min_samples_split': 3, 'n_estimators': 90}\n"
          ]
        }
      ],
      "source": [
        "print(\"Best score: \",gird_search_rf.best_score_)\n",
        "print(\"Best parameters: \",gird_search_rf.best_params_)"
      ]
    },
    {
      "cell_type": "code",
      "execution_count": null,
      "metadata": {
        "colab": {
          "base_uri": "https://localhost:8080/"
        },
        "id": "rl6gZ3dOLXPT",
        "outputId": "ca2eb10c-6bad-4e64-ee6f-53a7cd41d128"
      },
      "outputs": [
        {
          "name": "stdout",
          "output_type": "stream",
          "text": [
            "Training set score :  0.9113372093023255\n",
            "Test set score :  0.8782608695652174\n",
            "Y pred:  [0 0 1 1 1 0 1 1 1 1 0 0 1 1 1 0 1 1 1 0 1 1 0 1 1 0 0 0 1 1 1 0 0 1 1 0 0\n",
            " 1 1 1 0 0 0 1 0 1 0 1 0 1 1 1 0 1 0 0 0 0 1 1 1 0 0 0 0 0 1 1 0 1 1 0 1 1\n",
            " 1 0 1 1 0 1 0 0 1 0 1 0 1 0 1 1 0 0 1 1 0 1 1 0 0 1 1 1 1 1 1 1 1 0 1 1 0\n",
            " 1 1 1 0 0 1 1 0 1 1 0 0 1 1 1 1 1 1 0 1 1 0 1 1 1 1 0 0 0 0 0 0 1 1 0 1 0\n",
            " 0 0 1 1 1 1 0 0 1 1 0 1 0 0 0 0 0 0 1 1 1 0 1 1 0 1 1 1 1 0 1 0 0 0 1 1 1\n",
            " 1 1 1 1 0 1 1 0 0 0 1 0 0 1 0 0 1 0 1 1 0 1 1 0 1 1 0 0 0 0 0 0 1 1 1 0 0\n",
            " 0 1 1 1 0 0 0 0]\n"
          ]
        }
      ],
      "source": [
        "rf_best = RandomForestClassifier(bootstrap=True, class_weight=None, criterion='gini',\n",
        "            max_depth=5, max_features='auto', max_leaf_nodes=None,\n",
        "            min_impurity_decrease=0.0, \n",
        "            min_samples_split=5, n_estimators=90, n_jobs=-1,\n",
        "            oob_score=False, random_state=None, verbose=0,\n",
        "            warm_start=False)\n",
        "rf_best.fit(X_train, y_train)\n",
        "print(\"Training set score : \",rf_best.score(X_train,y_train))\n",
        "print(\"Test set score : \",rf_best.score(X_test,y_test))\n",
        "y_pred = rf_best.predict(X_test)\n"
      ]
    },
    {
      "cell_type": "markdown",
      "metadata": {
        "id": "dAoRzGqKFMMA"
      },
      "source": [
        "Confusion matrix"
      ]
    },
    {
      "cell_type": "code",
      "execution_count": null,
      "metadata": {
        "colab": {
          "base_uri": "https://localhost:8080/"
        },
        "id": "nonjfaY3FN1E",
        "outputId": "dc985364-a204-497f-83cb-8d678bbaeb1e"
      },
      "outputs": [
        {
          "name": "stdout",
          "output_type": "stream",
          "text": [
            "[[ 89  14]\n",
            " [ 14 113]]\n",
            "0.8782608695652174\n"
          ]
        }
      ],
      "source": [
        "from sklearn.metrics import confusion_matrix, accuracy_score\n",
        "cm = confusion_matrix(y_test, y_pred)\n",
        "print(cm)\n",
        "print(accuracy_score(y_test, y_pred))  #86.08% / 87.82% accurate"
      ]
    }
  ],
  "metadata": {
    "colab": {
      "name": "heart_imp.ipynb",
      "provenance": []
    },
    "kernelspec": {
      "display_name": "Python 3",
      "name": "python3"
    },
    "language_info": {
      "codemirror_mode": {
        "name": "ipython",
        "version": 3
      },
      "file_extension": ".py",
      "mimetype": "text/x-python",
      "name": "python",
      "nbconvert_exporter": "python",
      "pygments_lexer": "ipython3",
      "version": "3.9.6"
    }
  },
  "nbformat": 4,
  "nbformat_minor": 0
}
